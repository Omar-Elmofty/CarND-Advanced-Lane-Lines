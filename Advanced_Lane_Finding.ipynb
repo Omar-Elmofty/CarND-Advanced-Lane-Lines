{
 "cells": [
  {
   "cell_type": "markdown",
   "metadata": {},
   "source": [
    "## Advanced Lane Finding Project\n",
    "\n",
    "The goals / steps of this project are the following:\n",
    "\n",
    "* Compute the camera calibration matrix and distortion coefficients given a set of chessboard images.\n",
    "* Apply a distortion correction to raw images.\n",
    "* Use color transforms, gradients, etc., to create a thresholded binary image.\n",
    "* Apply a perspective transform to rectify binary image (\"birds-eye view\").\n",
    "* Detect lane pixels and fit to find the lane boundary.\n",
    "* Determine the curvature of the lane and vehicle position with respect to center.\n",
    "* Warp the detected lane boundaries back onto the original image.\n",
    "* Output visual display of the lane boundaries and numerical estimation of lane curvature and vehicle position.\n",
    "\n",
    "---\n"
   ]
  },
  {
   "cell_type": "code",
   "execution_count": 1,
   "metadata": {},
   "outputs": [],
   "source": [
    "#importing all relevant packages\n",
    "import matplotlib.pyplot as plt\n",
    "import matplotlib.image as mpimg\n",
    "import numpy as np\n",
    "import cv2\n",
    "import glob\n",
    "from moviepy.editor import VideoFileClip\n",
    "from IPython.display import HTML\n",
    "\n",
    "%matplotlib inline\n"
   ]
  },
  {
   "cell_type": "code",
   "execution_count": 2,
   "metadata": {},
   "outputs": [],
   "source": [
    "#Step 1: Compute camera calibration matrix and distortion coefficients based on a set of ChessBoard images\n",
    "\n",
    "def calibrate_camera():\n",
    "    #Function that outputs calicbration matrix and distortion coefficients from saved chess board images  \n",
    "    \n",
    "    # Initiate object points for correting for image distortion \n",
    "    objp = np.zeros((6*9,3), np.float32)\n",
    "    objp[:,:2] = np.mgrid[0:9,0:6].T.reshape(-1,2)\n",
    "\n",
    "    # Arrays to store object points and image points from all the images.\n",
    "    objpoints = [] # 3d points in real world space\n",
    "    imgpoints = [] # 2d points in image plane\n",
    "\n",
    "    # Make a list of calibration images\n",
    "    images = glob.glob('camera_cal/calibration*.jpg')\n",
    "\n",
    "    # Step through the list and search for chessboard corners\n",
    "    for fname in images:\n",
    "        img = mpimg.imread(fname)\n",
    "        gray = cv2.cvtColor(img,cv2.COLOR_BGR2GRAY)\n",
    "\n",
    "        # Find the chessboard corners\n",
    "        ret, corners = cv2.findChessboardCorners(gray, (9,6),None)\n",
    "\n",
    "        # If found, add object points, image points\n",
    "        if ret == True:\n",
    "            objpoints.append(objp)\n",
    "            imgpoints.append(corners)\n",
    "\n",
    "    ret, mtx, dist, rvecs, tvecs = cv2.calibrateCamera(objpoints, imgpoints, gray.shape[::-1], None, None)\n",
    "    return (mtx,dist)\n",
    "\n",
    "def undistort_image(img, camera_calib):\n",
    "    #Function that uses the calibration matrix and distortion coefficients to undistort image \n",
    "    dst = cv2.undistort(img, camera_calib[0], camera_calib[1], None, camera_calib[0])\n",
    "    return dst\n"
   ]
  },
  {
   "cell_type": "code",
   "execution_count": 3,
   "metadata": {},
   "outputs": [],
   "source": [
    "#Calibrate camera, store calibration matrix and distortion coefficients in global variable camera calib\n",
    "camera_calib = calibrate_camera()\n"
   ]
  },
  {
   "cell_type": "code",
   "execution_count": 4,
   "metadata": {},
   "outputs": [],
   "source": [
    "#Step 2:define region of interest of the image:\n",
    "\n",
    "def region_of_interest(img,vertices):\n",
    "    #Function that crops out region of interest \n",
    "    \n",
    "    #defining a blank mask to start with\n",
    "    mask = np.zeros_like(img)   \n",
    "    \n",
    "    #defining a 3 channel or 1 channel color to fill the mask with depending on the input image\n",
    "    if len(img.shape) > 2:\n",
    "        channel_count = img.shape[2]  # i.e. 3 or 4 depending on your image\n",
    "        ignore_mask_color = (255,) * channel_count\n",
    "    else:\n",
    "        ignore_mask_color = 255\n",
    "        \n",
    "    #filling pixels inside the polygon defined by \"vertices\" with the fill color    \n",
    "    cv2.fillPoly(mask, vertices, ignore_mask_color)\n",
    "    \n",
    "    #returning the image only where mask pixels are nonzero\n",
    "    masked_image = cv2.bitwise_and(img, mask)\n",
    "    return masked_image"
   ]
  },
  {
   "cell_type": "code",
   "execution_count": 5,
   "metadata": {},
   "outputs": [],
   "source": [
    "#Step3: Define thresholding functions based on gradient and color\n",
    "\n",
    "def color_gradient_mag(hsv_img,kernel=3, mag_thresh = (0,255)):\n",
    "    #Function that thresholds the image based on gradient in HSV color space \n",
    "    \n",
    "    #Extract color channels from input HSV image\n",
    "    h = hsv_img[:,:,0]\n",
    "    s = hsv_img[:,:,1]\n",
    "    v = hsv_img[:,:,2]\n",
    "    \n",
    "    #Calculate the gradient in x&y for each color channel\n",
    "    h_sobelx = cv2.Sobel(h,cv2.CV_64F,1,0,ksize=kernel)\n",
    "    h_sobely = cv2.Sobel(h,cv2.CV_64F,0,1,ksize=kernel)\n",
    "    \n",
    "    s_sobelx = cv2.Sobel(s,cv2.CV_64F,1,0,ksize=kernel)\n",
    "    s_sobely = cv2.Sobel(s,cv2.CV_64F,0,1,ksize=kernel)\n",
    "    \n",
    "    v_sobelx = cv2.Sobel(v,cv2.CV_64F,1,0,ksize=kernel)\n",
    "    v_sobely = cv2.Sobel(v,cv2.CV_64F,0,1,ksize=kernel)\n",
    "    \n",
    "    #calculate the differentiol for each color channel\n",
    "    dh_s = (h_sobelx+h_sobely) *np.pi/255*s #convert to radians, and muliply by s since s is radius in HSV, multiplying radius\n",
    "                                            #by angle gives the segment length\n",
    "    ds = s_sobelx+s_sobely\n",
    "    dv = v_sobelx+v_sobely\n",
    "    \n",
    "    #calculate color gradient magnitude based on the values for each differentials\n",
    "    color_mag = np.sqrt(dh_s**2+ds**2+dv**2)\n",
    "    #scale magnitude\n",
    "    scaled_mag = np.uint8(255*color_mag/np.max(color_mag))\n",
    "    #threshold image \n",
    "    binary = np.zeros_like(scaled_mag)\n",
    "    binary[(scaled_mag>=mag_thresh[0])&(scaled_mag<=mag_thresh[1])]=1\n",
    "\n",
    "    return binary\n",
    "\n",
    "def color_gradient_dir(hsv_img,kernel=3, dir_thresh = (0,255)):\n",
    "    #Function that threholds the image based on gradient direction in HSV color space\n",
    "    \n",
    "    #Extract color channels from input HSV image\n",
    "    h = hsv_img[:,:,0]\n",
    "    s = hsv_img[:,:,1]\n",
    "    v = hsv_img[:,:,2]\n",
    "    \n",
    "    #Calculate the gradient in x&y for each color channel\n",
    "    h_sobelx = cv2.Sobel(h,cv2.CV_64F,1,0,ksize=kernel)\n",
    "    h_sobely = cv2.Sobel(h,cv2.CV_64F,0,1,ksize=kernel)\n",
    "    \n",
    "    s_sobelx = cv2.Sobel(s,cv2.CV_64F,1,0,ksize=kernel)\n",
    "    s_sobely = cv2.Sobel(s,cv2.CV_64F,0,1,ksize=kernel)\n",
    "    \n",
    "    v_sobelx = cv2.Sobel(v,cv2.CV_64F,1,0,ksize=kernel)\n",
    "    v_sobely = cv2.Sobel(v,cv2.CV_64F,0,1,ksize=kernel)\n",
    "    \n",
    "    #calculate differentials dx and dy based on color gradients \n",
    "    dx = 1/h_sobelx/s+1/s_sobelx+1/v_sobelx #multipy H_sobel x by s since h is an angular measurement and s is radius to get segment length \n",
    "    dy = 1/h_sobely/s+1/s_sobely+1/v_sobely\n",
    "    \n",
    "    #calculate absolute values for each of the gradient differentials \n",
    "    abs_x= np.absolute(dx)\n",
    "    abs_y= np.absolute(dy)\n",
    "    #calculate gradient direction\n",
    "    grad_dir = np.arctan2(abs_y, abs_x)\n",
    "    #threshold image\n",
    "    binary = np.zeros_like(grad_dir)\n",
    "    binary[(grad_dir>=dir_thresh[0])&(grad_dir<=dir_thresh[1])]=1\n",
    "    \n",
    "    return binary\n",
    "\n",
    "def color_space_select(hsv_img):\n",
    "    #Function that Threshold's the image based on location in color space \n",
    "    \n",
    "    #Extract color channels\n",
    "    h = hsv_img[:,:,0]\n",
    "    s = hsv_img[:,:,1]\n",
    "    v = hsv_img[:,:,2]\n",
    "    #threshold image\n",
    "    binary = np.zeros_like(h)\n",
    "    binary[(v+0.75*s-255)>=0]=1\n",
    "    return binary\n",
    "    "
   ]
  },
  {
   "cell_type": "code",
   "execution_count": 6,
   "metadata": {},
   "outputs": [],
   "source": [
    "#Step 4: Apply perspective transform to get a birds eye view of the road\n",
    "def perspective_transform(img,verticies):\n",
    "    #Function that transforms image into a bird's eye view of the road \n",
    "    \n",
    "    #define source and destination vertices\n",
    "    src = np.float32(verticies) \n",
    "    dst = np.float32([[0,720],[0,0],[1280,0],[1280,720]])\n",
    "    #Calculate transformation matrix\n",
    "    M = cv2.getPerspectiveTransform(src, dst)\n",
    "    #Transform image \n",
    "    img_size = (img.shape[1],img.shape[0])\n",
    "    warped = cv2.warpPerspective(img, M, img_size, flags=cv2.INTER_LINEAR)\n",
    "    return warped \n"
   ]
  },
  {
   "cell_type": "code",
   "execution_count": 28,
   "metadata": {},
   "outputs": [],
   "source": [
    "#Step 5: Create class for storing detected lane lines \n",
    "class Line():\n",
    "    def __init__(self):\n",
    "        # was the line detected in the last iteration?\n",
    "        self.detected = False  \n",
    "        #Most recent fit coefficients\n",
    "        self.recent_fit = np.array([0])\n",
    "        #X-intercept of lane line\n",
    "        self.x_base = 0\n",
    "        #lane_curvature\n",
    "        self.curvature = 0\n",
    "        #Number of previous good fits detected (max 10)\n",
    "        self.previous_fits = []\n",
    "        #Avg coefficients of previous good fits detected\n",
    "        self.fit_average = np.array([0])\n",
    "        #Number of previous no good fits detected \n",
    "        self.ngood_no = 0\n",
    "    \n",
    "    def lane_region(self,binary_warped,margin):\n",
    "        #Function that crops out the region that the lane lines are expected to appear based on average polynomial\n",
    "        if self.detected ==True:\n",
    "            nonzero = binary_warped.nonzero()\n",
    "            nonzeroy = np.array(nonzero[0])\n",
    "            nonzerox = np.array(nonzero[1])\n",
    "\n",
    "            lane_inds = ((nonzerox > (self.fit_average[0]*(nonzeroy**2) + self.fit_average[1]*nonzeroy + \n",
    "                            self.fit_average[2] - margin)) & (nonzerox < (self.fit_average[0]*(nonzeroy**2) + \n",
    "                            self.fit_average[1]*nonzeroy +self.fit_average[2] + margin)))\n",
    "\n",
    "            lane_x = nonzerox[lane_inds]\n",
    "            lane_y = nonzeroy[lane_inds] \n",
    "\n",
    "\n",
    "            result = np.zeros_like(binary_warped)\n",
    "\n",
    "            result[lane_y,lane_x]=1\n",
    "        else:\n",
    "            result = binary_warped\n",
    "        \n",
    "        return result\n",
    "    \n",
    "    def find_x_base(self,binary_warped,side):\n",
    "        # Take a histogram of the bottom half of the image\n",
    "        histogram = np.sum(binary_warped[binary_warped.shape[0]//2:,:], axis=0)\n",
    "\n",
    "        # These will be the starting point for the left and right lines\n",
    "        midpoint = np.int(histogram.shape[0]//2)\n",
    "        if side=='left':\n",
    "            self.x_base = np.argmax(histogram[:midpoint])\n",
    "        elif side =='right':\n",
    "            self.x_base = np.argmax(histogram[midpoint:]) + midpoint\n",
    "        \n",
    "        return self.x_base\n",
    "    \n",
    "    def fit_polynomial(self, binary_warped,nwindows,margin,minpix):\n",
    "        #Function that  fits polynomial to transformed images \n",
    "\n",
    "        lane_x_base = self.x_base\n",
    "\n",
    "        # Set height of windows - based on nwindows above and image shape\n",
    "        window_height = np.int(binary_warped.shape[0]//nwindows)\n",
    "        # Identify the x and y positions of all nonzero pixels in the image\n",
    "        nonzero = binary_warped.nonzero()\n",
    "        nonzeroy = np.array(nonzero[0])\n",
    "        nonzerox = np.array(nonzero[1])\n",
    "        # Current positions to be updated later for each window in nwindows\n",
    "        lane_x_current = lane_x_base\n",
    "\n",
    "        # Create empty lists to receive left and right lane pixel indices\n",
    "        lane_inds = []\n",
    "\n",
    "        # Step through the windows one by one\n",
    "        for window in range(nwindows):\n",
    "            # Identify window boundaries in x and y (and right and left)\n",
    "            win_y_low = binary_warped.shape[0] - (window+1)*window_height\n",
    "            win_y_high = binary_warped.shape[0] - window*window_height\n",
    "            # Find the four below boundaries of the window ###\n",
    "            win_x_low = lane_x_current - margin  # Update this\n",
    "            win_x_high = lane_x_current + margin  # Update this\n",
    "    \n",
    "            # Identify the nonzero pixels in x and y within the window ###\n",
    "            good_lane_inds = ((nonzeroy >= win_y_low) & (nonzeroy < win_y_high) & \n",
    "            (nonzerox >= win_x_low) &  (nonzerox < win_x_high)).nonzero()[0]\n",
    "           \n",
    "            # Append these indices to the list\n",
    "            lane_inds.append(good_lane_inds)\n",
    "\n",
    "            #If you found > minpix pixels, recenter next window ###\n",
    "            if len(good_lane_inds) > minpix:\n",
    "                lane_x_current = np.int(np.mean(nonzerox[good_lane_inds]))\n",
    "            \n",
    "        # Concatenate the arrays of indices (previously was a list of lists of pixels)\n",
    "        try:\n",
    "            lane_inds = np.concatenate(lane_inds)\n",
    "        except ValueError:\n",
    "            # Avoids an error if the above is not implemented fully\n",
    "            pass\n",
    "\n",
    "        # Extract left and right line pixel positions\n",
    "        lane_x = nonzerox[lane_inds]\n",
    "        lane_y = nonzeroy[lane_inds] \n",
    "        \n",
    "        lane_fit = np.polyfit(lane_y,lane_x,2)\n",
    "        \n",
    "        #update self.recent_fit, and self.x_base:\n",
    "        self.recent_fit = lane_fit\n",
    "        self.curvature = (1+(2*self.recent_fit[0]+self.recent_fit[1])**2)**(3/2)/abs(2*self.recent_fit[0])\n",
    "        self.x_base = lane_fit[0]*720**2+lane_fit[1]*(720)+lane_fit[2]\n",
    "        return lane_fit\n",
    "\n",
    "    \n",
    "    def check_sanity_and_update(self,x_base_thresh,curvature_thresh):\n",
    "        print(self.x_base)\n",
    "        if (self.x_base >x_base_thresh[0]) and (self.x_base < x_base_thresh[1]):\n",
    "            self.detected == True\n",
    "            self.previous_fits.append(self.recent_fit)\n",
    "            if len(self.previous_fits)>10:\n",
    "                self.previous_fits.pop(0)\n",
    "            self.fit_average = sum(self.previous_fits)/len(self.previous_fits)\n",
    "            self.ngood_no = 0\n",
    "        else:\n",
    "            self.detected = False\n",
    "            if self.ngood_no >5:\n",
    "                self.fit_average = np.array([0])\n",
    "            else:\n",
    "                self.ngood_no+=1\n",
    "    def get_fit_average(self):\n",
    "        return self.fit_average\n",
    "    "
   ]
  },
  {
   "cell_type": "code",
   "execution_count": 34,
   "metadata": {},
   "outputs": [],
   "source": [
    "#Step 6: Fit polynomial to detected lane lines\n",
    "    \n",
    "def plot_detected_lane(binary_warped, left_fit, right_fit):\n",
    "    \n",
    "    if (len(left_fit)==1) or (len(right_fit)==1):\n",
    "        print('no')\n",
    "        return binary_warped\n",
    "        \n",
    "    result = np.ones_like(binary_warped)\n",
    "    \n",
    "    zero = result.nonzero()\n",
    "    zeroy = np.array(zero[0])\n",
    "    zerox = np.array(zero[1])\n",
    "    \n",
    "    lane_inds = ((zerox > (left_fit[0]*(zeroy**2) + left_fit[1]*zeroy + \n",
    "                    left_fit[2])) & (zerox < (right_fit[0]*(zeroy**2) + \n",
    "                    right_fit[1]*zeroy + right_fit[2])))\n",
    "    lanex = zerox[lane_inds]\n",
    "    laney = zeroy[lane_inds] \n",
    "    \n",
    "    result = np.zeros_like(binary_warped)\n",
    "    result[laney,lanex]=1\n",
    "    \n",
    "    return result\n",
    "    "
   ]
  },
  {
   "cell_type": "code",
   "execution_count": 35,
   "metadata": {},
   "outputs": [],
   "source": [
    "#funtcion f or transforming the detected region back to the perspective view of the road\n",
    "def transform_back(img):\n",
    "    dst = np.float32([[110,720],[550,460],[750,460],[1270,720]])\n",
    "    src = np.float32([[0,720],[0,0],[1280,0],[1280,720]])\n",
    "    M = cv2.getPerspectiveTransform(src, dst)\n",
    "    img_size = (img.shape[1],img.shape[0])\n",
    "    warped = cv2.warpPerspective(img, M, img_size, flags=cv2.INTER_LINEAR)\n",
    "    return warped "
   ]
  },
  {
   "cell_type": "code",
   "execution_count": 36,
   "metadata": {},
   "outputs": [],
   "source": [
    "left_lane = Line()\n",
    "right_lane = Line()\n",
    "\n",
    "def pipeline(img, camera_calib):\n",
    "    #Function containing hte pipline for processing image\n",
    "    \n",
    "    #Declare global variables\n",
    "    global left_lane\n",
    "    global right_lane\n",
    "    \n",
    "    #Undistort image (Correct for lens distortion)\n",
    "    undist = undistort_image(img, camera_calib)\n",
    "    \n",
    "    #Crop out region of interest\n",
    "    vertices = np.array([[[100,700],[550,450],[750,450],[1280,700]]])\n",
    "    ROI = region_of_interest(undist,vertices)\n",
    "    \n",
    "    #Convert image to HSV\n",
    "    hsv_img = cv2.cvtColor(ROI,cv2.COLOR_RGB2HSV)\n",
    "    \n",
    "    #Threshold image based on gradient magnitude and direction as well as location in color space \n",
    "    grad_binary = color_gradient_mag(hsv_img,3, (15,255))\n",
    "    dir_binary = color_gradient_dir(hsv_img,11, (0/180*np.pi,60/180*np.pi))\n",
    "    color_binary = color_space_select(hsv_img)\n",
    "    comb_binary = np.zeros_like(color_binary)\n",
    "    comb_binary[(color_binary==1)|((grad_binary==1)&(dir_binary==1))]=1\n",
    "    \n",
    "    #Transform image to get a bird's eye view of the road\n",
    "    binary_warped = perspective_transform(comb_binary,[[110,700],[550,460],[750,460],[1270,700]])\n",
    "    \n",
    "    \n",
    "    left_lane_region = left_lane.lane_region(binary_warped,150)\n",
    "    left_lane.find_x_base(left_lane_region,'left')\n",
    "    left_lane.fit_polynomial(left_lane_region,9,100,50)\n",
    "    left_lane.check_sanity_and_update((0,640),(0,1000000))\n",
    "    \n",
    "    right_lane_region = right_lane.lane_region(binary_warped,150)\n",
    "    right_lane.find_x_base(right_lane_region,'right')\n",
    "    right_lane.fit_polynomial(right_lane_region,9,100,50)\n",
    "    right_lane.check_sanity_and_update((640,1280),(0,1000000))\n",
    "    \n",
    "    print(left_lane.get_fit_average() )\n",
    "    lane = plot_detected_lane(binary_warped, left_lane.get_fit_average(), right_lane.get_fit_average())\n",
    "    #For testing only: Output image -> binary warped\n",
    "    out_img = np.dstack((binary_warped*255,lane*255,binary_warped*255))\n",
    "    \n",
    "    \"\"\"\n",
    "    if counter==0:\n",
    "        expected_img = binary_warped\n",
    "        left_fit , right_fit = fit_polynomial(binary_warped)\n",
    "        prior_poly =  [left_fit , right_fit]\n",
    "        counter +=1\n",
    "    else:\n",
    "        expected_img = expected_lane(binary_warped,prior_poly[0],prior_poly[1])\n",
    "        left_fit , right_fit = fit_polynomial(binary_warped)\n",
    "        prior_poly =  [left_fit , right_fit]\n",
    "    \n",
    "    lane = plot_detected_lane(binary_warped, left_fit, right_fit)\n",
    "    lane_unwarped = transform_back(lane)\n",
    "    lane_ingreen = np.dstack((np.zeros_like(lane_unwarped),lane_unwarped*255,np.zeros_like(lane_unwarped)))\n",
    "    out_img = cv2.addWeighted(undist, 1, lane_ingreen, 0.3, 0)\n",
    "    \"\"\"\n",
    "    \n",
    "    return out_img\n"
   ]
  },
  {
   "cell_type": "code",
   "execution_count": 37,
   "metadata": {},
   "outputs": [],
   "source": [
    "\n",
    "def process_image(img):\n",
    "    #Function that processes image using defined pipeline\n",
    "    result = pipeline(img, camera_calib)\n",
    "    return result"
   ]
  },
  {
   "cell_type": "code",
   "execution_count": 38,
   "metadata": {},
   "outputs": [
    {
     "name": "stdout",
     "output_type": "stream",
     "text": [
      "214.79709467477772\n",
      "1140.3802535668399\n",
      "[-3.34497562e-04  3.62477652e-01  1.27216722e+02]\n",
      "[MoviePy] >>>> Building video output_images/project_video_output.mp4\n",
      "[MoviePy] Writing video output_images/project_video_output.mp4\n"
     ]
    },
    {
     "name": "stderr",
     "output_type": "stream",
     "text": [
      "\n",
      "\n",
      "  0%|                                                   | 0/51 [00:00<?, ?it/s]"
     ]
    },
    {
     "name": "stdout",
     "output_type": "stream",
     "text": [
      "214.79709467477772\n",
      "1140.3802535668399\n",
      "[-3.34497562e-04  3.62477652e-01  1.27216722e+02]\n"
     ]
    },
    {
     "name": "stderr",
     "output_type": "stream",
     "text": [
      "\n",
      "\n",
      "  2%|▊                                          | 1/51 [00:00<00:45,  1.10it/s]"
     ]
    },
    {
     "name": "stdout",
     "output_type": "stream",
     "text": [
      "216.02942784079684\n",
      "1144.394057382454\n",
      "[-3.30687656e-04  3.58609790e-01  1.28437304e+02]\n"
     ]
    },
    {
     "name": "stderr",
     "output_type": "stream",
     "text": [
      "\n",
      "\n",
      "  4%|█▋                                         | 2/51 [00:01<00:44,  1.11it/s]"
     ]
    },
    {
     "name": "stdout",
     "output_type": "stream",
     "text": [
      "216.35759477282838\n",
      "1150.2279259881757\n",
      "[-3.31607540e-04  3.58882406e-01  1.29005319e+02]\n"
     ]
    },
    {
     "name": "stderr",
     "output_type": "stream",
     "text": [
      "\n",
      "\n",
      "  6%|██▌                                        | 3/51 [00:02<00:43,  1.11it/s]"
     ]
    },
    {
     "name": "stdout",
     "output_type": "stream",
     "text": [
      "218.78690508331096\n",
      "1150.4764571476785\n",
      "[-3.29044637e-04  3.56969732e-01  1.29712156e+02]\n"
     ]
    },
    {
     "name": "stderr",
     "output_type": "stream",
     "text": [
      "\n",
      "\n",
      "  8%|███▎                                       | 4/51 [00:03<00:42,  1.10it/s]"
     ]
    },
    {
     "name": "stdout",
     "output_type": "stream",
     "text": [
      "219.00617451239103\n",
      "1154.3355051356382\n",
      "[-3.28551249e-04  3.56939525e-01  1.29953558e+02]\n"
     ]
    },
    {
     "name": "stderr",
     "output_type": "stream",
     "text": [
      "\n",
      "\n",
      " 10%|████▏                                      | 5/51 [00:04<00:43,  1.07it/s]"
     ]
    },
    {
     "name": "stdout",
     "output_type": "stream",
     "text": [
      "223.22984318864957\n",
      "1154.0812374588656\n",
      "[-3.28149042e-04  3.58790499e-01  1.29355324e+02]\n"
     ]
    },
    {
     "name": "stderr",
     "output_type": "stream",
     "text": [
      "\n",
      "\n",
      " 12%|█████                                      | 6/51 [00:05<00:42,  1.06it/s]"
     ]
    },
    {
     "name": "stdout",
     "output_type": "stream",
     "text": [
      "224.2002558168586\n",
      "1114.9842461187009\n",
      "[-3.26606941e-04  3.60061099e-01  1.28469596e+02]\n"
     ]
    },
    {
     "name": "stderr",
     "output_type": "stream",
     "text": [
      "\n",
      "\n",
      " 14%|█████▉                                     | 7/51 [00:06<00:41,  1.05it/s]"
     ]
    },
    {
     "name": "stdout",
     "output_type": "stream",
     "text": [
      "226.2420435081077\n",
      "1091.232826663509\n",
      "[-3.29207097e-04  3.65077666e-01  1.27076866e+02]\n"
     ]
    },
    {
     "name": "stderr",
     "output_type": "stream",
     "text": [
      "\n",
      "\n",
      " 16%|██████▋                                    | 8/51 [00:07<00:40,  1.07it/s]"
     ]
    },
    {
     "name": "stdout",
     "output_type": "stream",
     "text": [
      "226.42427003092817\n",
      "1112.0990498232154\n",
      "[-3.29349437e-04  3.67940501e-01  1.25804658e+02]\n"
     ]
    },
    {
     "name": "stderr",
     "output_type": "stream",
     "text": [
      "\n",
      "\n",
      " 18%|███████▌                                   | 9/51 [00:08<00:38,  1.08it/s]"
     ]
    },
    {
     "name": "stdout",
     "output_type": "stream",
     "text": [
      "223.87887226624935\n",
      "1117.0129727096742\n",
      "[-3.31428319e-04  3.73206961e-01  1.23998677e+02]\n"
     ]
    },
    {
     "name": "stderr",
     "output_type": "stream",
     "text": [
      "\n",
      "\n",
      " 20%|████████▏                                 | 10/51 [00:09<00:37,  1.09it/s]"
     ]
    },
    {
     "name": "stdout",
     "output_type": "stream",
     "text": [
      "225.5910257063167\n",
      "1127.2125572023351\n",
      "[-3.35018790e-04  3.80808753e-01  1.21466080e+02]\n"
     ]
    },
    {
     "name": "stderr",
     "output_type": "stream",
     "text": [
      "\n",
      "\n",
      " 22%|█████████                                 | 11/51 [00:10<00:36,  1.09it/s]"
     ]
    },
    {
     "name": "stdout",
     "output_type": "stream",
     "text": [
      "225.55392154676184\n",
      "1139.0373525034101\n",
      "[-3.32562872e-04  3.84491908e-01  1.18493510e+02]\n"
     ]
    },
    {
     "name": "stderr",
     "output_type": "stream",
     "text": [
      "\n",
      "\n",
      " 24%|█████████▉                                | 12/51 [00:11<00:36,  1.07it/s]"
     ]
    },
    {
     "name": "stdout",
     "output_type": "stream",
     "text": [
      "232.47996049509456\n",
      "1139.3489461768916\n",
      "[-3.21285165e-04  3.81509774e-01  1.16406520e+02]\n"
     ]
    },
    {
     "name": "stderr",
     "output_type": "stream",
     "text": [
      "\n",
      "\n",
      " 25%|██████████▋                               | 13/51 [00:12<00:36,  1.04it/s]"
     ]
    },
    {
     "name": "stdout",
     "output_type": "stream",
     "text": [
      "234.19207922812058\n",
      "1154.102682228106\n",
      "[-3.07392179e-04  3.75733042e-01  1.14904160e+02]\n"
     ]
    },
    {
     "name": "stderr",
     "output_type": "stream",
     "text": [
      "\n",
      "\n",
      " 27%|███████████▌                              | 14/51 [00:13<00:36,  1.02it/s]"
     ]
    },
    {
     "name": "stdout",
     "output_type": "stream",
     "text": [
      "229.2080390399395\n",
      "1146.6082212636472\n",
      "[-2.99668184e-04  3.74405748e-01  1.12875879e+02]\n"
     ]
    },
    {
     "name": "stderr",
     "output_type": "stream",
     "text": [
      "\n",
      "\n",
      " 29%|████████████▎                             | 15/51 [00:14<00:35,  1.01it/s]"
     ]
    },
    {
     "name": "stdout",
     "output_type": "stream",
     "text": [
      "225.53704812376532\n",
      "1144.6511614967626\n",
      "[-2.98958067e-04  3.77264084e-01  1.10680473e+02]\n"
     ]
    },
    {
     "name": "stderr",
     "output_type": "stream",
     "text": [
      "\n",
      "\n",
      " 31%|█████████████▏                            | 16/51 [00:15<00:33,  1.04it/s]"
     ]
    },
    {
     "name": "stdout",
     "output_type": "stream",
     "text": [
      "226.4383085838578\n",
      "1147.757578642665\n",
      "[-2.96630926e-04  3.78388145e-01  1.08888564e+02]\n"
     ]
    },
    {
     "name": "stderr",
     "output_type": "stream",
     "text": [
      "\n",
      "\n",
      " 33%|██████████████                            | 17/51 [00:16<00:32,  1.04it/s]"
     ]
    },
    {
     "name": "stdout",
     "output_type": "stream",
     "text": [
      "225.64939491663898\n",
      "1145.679814555607\n",
      "[-2.92811057e-04  3.77501819e-01  1.07487234e+02]\n"
     ]
    },
    {
     "name": "stderr",
     "output_type": "stream",
     "text": [
      "\n",
      "\n",
      " 35%|██████████████▊                           | 18/51 [00:17<00:31,  1.05it/s]"
     ]
    },
    {
     "name": "stdout",
     "output_type": "stream",
     "text": [
      "224.81588225086892\n",
      "1069.7677710985215\n",
      "[-2.90242173e-04  3.77843264e-01  1.05748845e+02]\n"
     ]
    },
    {
     "name": "stderr",
     "output_type": "stream",
     "text": [
      "\n",
      "\n",
      " 37%|███████████████▋                          | 19/51 [00:18<00:33,  1.04s/it]"
     ]
    },
    {
     "name": "stdout",
     "output_type": "stream",
     "text": [
      "221.1777511322596\n",
      "1068.9848085806211\n",
      "[-2.83777359e-04  3.74619261e-01  1.04448656e+02]\n"
     ]
    },
    {
     "name": "stderr",
     "output_type": "stream",
     "text": [
      "\n",
      "\n",
      " 39%|████████████████▍                         | 20/51 [00:19<00:36,  1.19s/it]"
     ]
    },
    {
     "name": "stdout",
     "output_type": "stream",
     "text": [
      "218.0912204899551\n",
      "1095.1103176723761\n",
      "[-2.75869437e-04  3.69290654e-01  1.03435806e+02]\n"
     ]
    },
    {
     "name": "stderr",
     "output_type": "stream",
     "text": [
      "\n",
      "\n",
      " 41%|█████████████████▎                        | 21/51 [00:21<00:38,  1.28s/it]"
     ]
    },
    {
     "name": "stdout",
     "output_type": "stream",
     "text": [
      "221.7185964525027\n",
      "1096.7413201204067\n",
      "[-2.66668028e-04  3.62936132e-01  1.02857519e+02]\n"
     ]
    },
    {
     "name": "stderr",
     "output_type": "stream",
     "text": [
      "\n",
      "\n",
      " 43%|██████████████████                        | 22/51 [00:22<00:33,  1.17s/it]"
     ]
    },
    {
     "name": "stdout",
     "output_type": "stream",
     "text": [
      "216.53948929548145\n",
      "1107.037930294994\n",
      "[-2.66280059e-04  3.63071958e-01  1.00964553e+02]\n"
     ]
    },
    {
     "name": "stderr",
     "output_type": "stream",
     "text": [
      "\n",
      "\n",
      " 45%|██████████████████▉                       | 23/51 [00:23<00:30,  1.11s/it]"
     ]
    },
    {
     "name": "stdout",
     "output_type": "stream",
     "text": [
      "218.4264014772819\n",
      "1105.0918717438028\n",
      "[-2.64017755e-04  3.61358852e-01  9.94486437e+01]\n"
     ]
    },
    {
     "name": "stderr",
     "output_type": "stream",
     "text": [
      "\n",
      "\n",
      " 47%|███████████████████▊                      | 24/51 [00:24<00:28,  1.05s/it]"
     ]
    },
    {
     "name": "stdout",
     "output_type": "stream",
     "text": [
      "216.0408452094166\n",
      "1115.4115690073638\n",
      "[-2.55831909e-04  3.54246429e-01  9.90093266e+01]\n"
     ]
    },
    {
     "name": "stderr",
     "output_type": "stream",
     "text": [
      "\n",
      "\n",
      " 49%|████████████████████▌                     | 25/51 [00:24<00:26,  1.01s/it]"
     ]
    },
    {
     "name": "stdout",
     "output_type": "stream",
     "text": [
      "214.93781867770963\n",
      "1120.0459243912321\n",
      "[-2.36420070e-04  3.38249806e-01  9.94038752e+01]\n"
     ]
    },
    {
     "name": "stderr",
     "output_type": "stream",
     "text": [
      "\n",
      "\n",
      " 51%|█████████████████████▍                    | 26/51 [00:25<00:25,  1.01s/it]"
     ]
    },
    {
     "name": "stdout",
     "output_type": "stream",
     "text": [
      "213.3109905338938\n",
      "1134.5448461130081\n",
      "[-2.18780755e-04  3.23110796e-01  9.98470095e+01]\n"
     ]
    },
    {
     "name": "stderr",
     "output_type": "stream",
     "text": [
      "\n",
      "\n",
      " 53%|██████████████████████▏                   | 27/51 [00:26<00:23,  1.01it/s]"
     ]
    },
    {
     "name": "stdout",
     "output_type": "stream",
     "text": [
      "206.24191983786116\n",
      "1144.3434621120748\n",
      "[-2.02409459e-04  3.08799462e-01  9.97235426e+01]\n"
     ]
    },
    {
     "name": "stderr",
     "output_type": "stream",
     "text": [
      "\n",
      "\n",
      " 55%|███████████████████████                   | 28/51 [00:28<00:23,  1.03s/it]"
     ]
    },
    {
     "name": "stdout",
     "output_type": "stream",
     "text": [
      "204.26646509974626\n",
      "1143.2568613022381\n",
      "[-1.88551837e-04  2.94810102e-01  1.00557149e+02]\n"
     ]
    },
    {
     "name": "stderr",
     "output_type": "stream",
     "text": [
      "\n",
      "\n",
      " 57%|███████████████████████▉                  | 29/51 [00:29<00:22,  1.02s/it]"
     ]
    },
    {
     "name": "stdout",
     "output_type": "stream",
     "text": [
      "200.5273999519447\n",
      "1143.0580561695333\n",
      "[-1.84121872e-04  2.88494178e-01  1.00743085e+02]\n"
     ]
    },
    {
     "name": "stderr",
     "output_type": "stream",
     "text": [
      "\n",
      "\n",
      " 59%|████████████████████████▋                 | 30/51 [00:30<00:21,  1.01s/it]"
     ]
    },
    {
     "name": "stdout",
     "output_type": "stream",
     "text": [
      "197.56196901306845\n",
      "1145.292048801532\n",
      "[-1.83799006e-04  2.83429423e-01  1.02169410e+02]\n"
     ]
    },
    {
     "name": "stderr",
     "output_type": "stream",
     "text": [
      "\n",
      "\n",
      " 61%|█████████████████████████▌                | 31/51 [00:30<00:19,  1.03it/s]"
     ]
    },
    {
     "name": "stdout",
     "output_type": "stream",
     "text": [
      "197.4617859904784\n",
      "1079.571884974352\n",
      "[-1.96739491e-04  2.87940227e-01  1.03204297e+02]\n"
     ]
    },
    {
     "name": "stderr",
     "output_type": "stream",
     "text": [
      "\n",
      "\n",
      " 63%|██████████████████████████▎               | 32/51 [00:31<00:17,  1.06it/s]"
     ]
    },
    {
     "name": "stdout",
     "output_type": "stream",
     "text": [
      "192.5910129996303\n",
      "1088.335888201209\n",
      "[-2.13273793e-04  2.95378493e-01  1.04025280e+02]\n"
     ]
    },
    {
     "name": "stderr",
     "output_type": "stream",
     "text": [
      "\n",
      "\n",
      " 65%|███████████████████████████▏              | 33/51 [00:32<00:17,  1.06it/s]"
     ]
    },
    {
     "name": "stdout",
     "output_type": "stream",
     "text": [
      "194.1329017928221\n",
      "1092.5214863410647\n",
      "[-2.36811594e-04  3.09287106e-01  1.03783725e+02]\n"
     ]
    },
    {
     "name": "stderr",
     "output_type": "stream",
     "text": [
      "\n",
      "\n",
      " 67%|████████████████████████████              | 34/51 [00:33<00:16,  1.05it/s]"
     ]
    },
    {
     "name": "stdout",
     "output_type": "stream",
     "text": [
      "194.48014654576392\n",
      "1093.6455524835012\n",
      "[-2.61635816e-04  3.25230068e-01  1.03017599e+02]\n"
     ]
    },
    {
     "name": "stderr",
     "output_type": "stream",
     "text": [
      "\n",
      "\n",
      " 69%|████████████████████████████▊             | 35/51 [00:34<00:15,  1.06it/s]"
     ]
    },
    {
     "name": "stdout",
     "output_type": "stream",
     "text": [
      "201.0716112669964\n",
      "1106.2146039865547\n",
      "[-2.88245127e-04  3.43499434e-01  1.02271302e+02]\n"
     ]
    },
    {
     "name": "stderr",
     "output_type": "stream",
     "text": [
      "\n",
      "\n",
      " 71%|█████████████████████████████▋            | 36/51 [00:35<00:14,  1.06it/s]"
     ]
    },
    {
     "name": "stdout",
     "output_type": "stream",
     "text": [
      "199.23141610954147\n",
      "1116.7345485483593\n",
      "[-3.17945721e-04  3.64407669e-01  1.01206203e+02]\n"
     ]
    },
    {
     "name": "stderr",
     "output_type": "stream",
     "text": [
      "\n",
      "\n",
      " 73%|██████████████████████████████▍           | 37/51 [00:36<00:13,  1.04it/s]"
     ]
    },
    {
     "name": "stdout",
     "output_type": "stream",
     "text": [
      "203.1034149678619\n",
      "1115.1522073647943\n",
      "[-3.44575164e-04  3.83578661e-01  1.00893941e+02]\n"
     ]
    },
    {
     "name": "stderr",
     "output_type": "stream",
     "text": [
      "\n",
      "\n",
      " 75%|███████████████████████████████▎          | 38/51 [00:37<00:13,  1.01s/it]"
     ]
    },
    {
     "name": "stdout",
     "output_type": "stream",
     "text": [
      "206.71733714627993\n",
      "1124.661215601841\n",
      "[-3.67577511e-04  4.01107528e-01  1.00442661e+02]\n"
     ]
    },
    {
     "name": "stderr",
     "output_type": "stream",
     "text": [
      "\n",
      "\n",
      " 76%|████████████████████████████████          | 39/51 [00:38<00:11,  1.02it/s]"
     ]
    },
    {
     "name": "stdout",
     "output_type": "stream",
     "text": [
      "208.78377656623945\n",
      "1119.0320399240557\n",
      "[-3.79530406e-04  4.09817076e-01  1.01193805e+02]\n"
     ]
    },
    {
     "name": "stderr",
     "output_type": "stream",
     "text": [
      "\n",
      "\n",
      " 78%|████████████████████████████████▉         | 40/51 [00:39<00:10,  1.06it/s]"
     ]
    },
    {
     "name": "stdout",
     "output_type": "stream",
     "text": [
      "205.84259687638627\n",
      "1125.5012936860976\n",
      "[-3.93063374e-04  4.22438789e-01  9.99497251e+01]\n"
     ]
    },
    {
     "name": "stderr",
     "output_type": "stream",
     "text": [
      "\n",
      "\n",
      " 80%|█████████████████████████████████▊        | 41/51 [00:40<00:09,  1.02it/s]"
     ]
    },
    {
     "name": "stdout",
     "output_type": "stream",
     "text": [
      "209.5270484189371\n",
      "1136.4135997762426\n",
      "[-4.01101999e-04  4.31399783e-01  9.88715591e+01]\n"
     ]
    },
    {
     "name": "stderr",
     "output_type": "stream",
     "text": [
      "\n",
      "\n",
      " 82%|██████████████████████████████████▌       | 42/51 [00:41<00:08,  1.03it/s]"
     ]
    },
    {
     "name": "stdout",
     "output_type": "stream",
     "text": [
      "210.34089564187724\n",
      "1140.02961606161\n",
      "[-4.03954245e-04  4.37163748e-01  9.79750962e+01]\n"
     ]
    },
    {
     "name": "stderr",
     "output_type": "stream",
     "text": [
      "\n",
      "\n",
      " 84%|███████████████████████████████████▍      | 43/51 [00:42<00:08,  1.03s/it]"
     ]
    },
    {
     "name": "stdout",
     "output_type": "stream",
     "text": [
      "210.51623710810543\n",
      "1144.553878551751\n",
      "[-4.06047425e-04  4.43205348e-01  9.63485823e+01]\n"
     ]
    },
    {
     "name": "stderr",
     "output_type": "stream",
     "text": [
      "\n",
      "\n",
      " 86%|████████████████████████████████████▏     | 44/51 [00:43<00:07,  1.08s/it]"
     ]
    },
    {
     "name": "stdout",
     "output_type": "stream",
     "text": [
      "208.7432798715373\n",
      "1076.7430277928902\n",
      "[-4.08099996e-04  4.49472239e-01  9.43267875e+01]\n"
     ]
    },
    {
     "name": "stderr",
     "output_type": "stream",
     "text": [
      "\n",
      "\n",
      " 88%|█████████████████████████████████████     | 45/51 [00:45<00:06,  1.14s/it]"
     ]
    },
    {
     "name": "stdout",
     "output_type": "stream",
     "text": [
      "211.21403779021568\n",
      "1079.4848140599233\n",
      "[-4.10639887e-04  4.55491400e-01  9.23239129e+01]\n"
     ]
    },
    {
     "name": "stderr",
     "output_type": "stream",
     "text": [
      "\n",
      "\n",
      " 90%|█████████████████████████████████████▉    | 46/51 [00:46<00:05,  1.09s/it]"
     ]
    },
    {
     "name": "stdout",
     "output_type": "stream",
     "text": [
      "211.3685284520413\n",
      "1087.3547459781485\n",
      "[-4.09086636e-04  4.59003216e-01  9.02039117e+01]\n"
     ]
    },
    {
     "name": "stderr",
     "output_type": "stream",
     "text": [
      "\n",
      "\n",
      " 92%|██████████████████████████████████████▋   | 47/51 [00:47<00:04,  1.05s/it]"
     ]
    },
    {
     "name": "stdout",
     "output_type": "stream",
     "text": [
      "213.62546203959437\n",
      "1096.2286542948657\n",
      "[-4.07490323e-04  4.62715478e-01  8.77557592e+01]\n"
     ]
    },
    {
     "name": "stderr",
     "output_type": "stream",
     "text": [
      "\n",
      "\n",
      " 94%|███████████████████████████████████████▌  | 48/51 [00:48<00:03,  1.06s/it]"
     ]
    },
    {
     "name": "stdout",
     "output_type": "stream",
     "text": [
      "215.63068087316861\n",
      "1108.5897291061453\n",
      "[-4.00939964e-04  4.62159425e-01  8.56517458e+01]\n"
     ]
    },
    {
     "name": "stderr",
     "output_type": "stream",
     "text": [
      "\n",
      "\n",
      " 96%|████████████████████████████████████████▎ | 49/51 [00:49<00:02,  1.03s/it]"
     ]
    },
    {
     "name": "stdout",
     "output_type": "stream",
     "text": [
      "216.68532687342315\n",
      "1115.4481099276752\n",
      "[-3.95878586e-04  4.63355078e-01  8.29572122e+01]\n"
     ]
    },
    {
     "name": "stderr",
     "output_type": "stream",
     "text": [
      "\n",
      "\n",
      " 98%|█████████████████████████████████████████▏| 50/51 [00:50<00:01,  1.00s/it]\n",
      "\n"
     ]
    },
    {
     "name": "stdout",
     "output_type": "stream",
     "text": [
      "[MoviePy] Done.\n",
      "[MoviePy] >>>> Video ready: output_images/project_video_output.mp4 \n",
      "\n",
      "Wall time: 51.1 s\n"
     ]
    },
    {
     "data": {
      "text/plain": [
       "\"\\nimg = mpimg.imread('test_images/test6.jpg')\\nplt.imshow(img)\\nprint(img.shape)\\nplt.show()\\n\\nf_img = color_gradient(img,11,(50,255),(0,60/180*np.pi))\\nplt.imshow(f_img)\\nplt.show()\""
      ]
     },
     "execution_count": 38,
     "metadata": {},
     "output_type": "execute_result"
    }
   ],
   "source": [
    "white_output = 'output_images/project_video_output.mp4'\n",
    "## To speed up the testing process you may want to try your pipeline on a shorter subclip of the video\n",
    "## To do so add .subclip(start_second,end_second) to the end of the line below\n",
    "## Where start_second and end_second are integer values representing the start and end of the subclip\n",
    "## You may also uncomment the following line for a subclip of the first 5 seconds\n",
    "clip1 = VideoFileClip(\"project_video.mp4\").subclip(0,2)\n",
    "#clip1 = VideoFileClip(\"project_video.mp4\")\n",
    "white_clip = clip1.fl_image(process_image) #NOTE: this function expects color images!!\n",
    "%time white_clip.write_videofile(white_output, audio=False)\n",
    "\n",
    "\"\"\"\n",
    "img = mpimg.imread('test_images/test6.jpg')\n",
    "plt.imshow(img)\n",
    "print(img.shape)\n",
    "plt.show()\n",
    "\n",
    "f_img = color_gradient(img,11,(50,255),(0,60/180*np.pi))\n",
    "plt.imshow(f_img)\n",
    "plt.show()\"\"\"\n"
   ]
  },
  {
   "cell_type": "code",
   "execution_count": 39,
   "metadata": {},
   "outputs": [
    {
     "data": {
      "text/html": [
       "\n",
       "<video width=\"960\" height=\"540\" controls>\n",
       "  <source src=\"output_images/project_video_output.mp4\">\n",
       "</video>\n"
      ],
      "text/plain": [
       "<IPython.core.display.HTML object>"
      ]
     },
     "execution_count": 39,
     "metadata": {},
     "output_type": "execute_result"
    }
   ],
   "source": [
    "HTML(\"\"\"\n",
    "<video width=\"960\" height=\"540\" controls>\n",
    "  <source src=\"{0}\">\n",
    "</video>\n",
    "\"\"\".format(white_output))"
   ]
  },
  {
   "cell_type": "code",
   "execution_count": 14,
   "metadata": {},
   "outputs": [
    {
     "data": {
      "text/plain": [
       "\"\\ndef abs_sobel_thresh(gray_img, orient='x', thresh_min=0, thresh_max=255):\\n    # Apply the following steps to img\\n    \\n    # 2) Take the derivative in x or y given orient = 'x' or 'y'\\n    if orient == 'x':\\n        x = 1\\n        y=0\\n    elif orient == 'y':\\n        x = 0\\n        y = 1\\n    else:\\n        raise ValueError \\n        \\n    sobelx = cv2.Sobel(gray_img,cv2.CV_64F,x,y)\\n    # 3) Take the absolute value of the derivative or gradient\\n    abs_sobelx = np.absolute(sobelx)\\n    # 4) Scale to 8-bit (0 - 255) then convert to type = np.uint8\\n    scaled_sobel = np.uint8(255*abs_sobelx/np.max(abs_sobelx))\\n    # 5) Create a mask of 1's where the scaled gradient magnitude \\n            # is > thresh_min and < thresh_max\\n    sxbinary = np.zeros_like(scaled_sobel)\\n    # 6) Return this mask as your binary_output image\\n    sxbinary [(scaled_sobel >= thresh_min) & (scaled_sobel <=thresh_max)] = 1\\n    \\n    return sxbinary\\n\\ndef mag_thresh(gray, sobel_kernel=3, mag_thresh=(0, 255)):\\n    # Apply the following steps to img\\n  \\n    # 2) Take the gradient in x and y separately\\n    sobelx = cv2.Sobel(gray,cv2.CV_64F,1,0, ksize=sobel_kernel)\\n    sobely = cv2.Sobel(gray,cv2.CV_64F,0,1, ksize=sobel_kernel)\\n    # 3) Calculate the magnitude \\n    grad = np.sqrt(sobelx**2+sobely**2)\\n    scaled_sobel = np.uint8(255*grad/np.max(grad))\\n    # 4) Scale to 8-bit (0 - 255) and convert to type = np.uint8\\n    binary = np.zeros_like(scaled_sobel)\\n    # 5) Create a binary mask where mag thresholds are met\\n    binary[(scaled_sobel>=mag_thresh[0])&(scaled_sobel<=mag_thresh[1])]=1\\n    # 6) Return this mask as your binary_output image\\n    return binary\\n\\ndef dir_threshold(gray, sobel_kernel=3, thresh=(0, np.pi/2)):\\n    # 2) Take the gradient in x and y separately\\n    sobelx = cv2.Sobel(gray,cv2.CV_64F,1,0,ksize=sobel_kernel)\\n    sobely = cv2.Sobel(gray,cv2.CV_64F,0,1,ksize=sobel_kernel)\\n    # 3) Take the absolute value of the x and y gradients\\n    abs_sobelx= np.absolute(sobelx)\\n    abs_sobely= np.absolute(sobely)\\n    # 4) Use np.arctan2(abs_sobely, abs_sobelx) to calculate the direction of the gradient \\n    grad_dir = np.arctan2(abs_sobely, abs_sobelx)\\n    #scaled_sobel = np.uint8(255*grad_dir/np.max(grad_dir))\\n    # 5) Create a binary mask where direction thresholds are met\\n    binary = np.zeros_like(grad_dir)\\n    binary[(grad_dir>=thresh[0]) & (grad_dir<=thresh[1])] = 1\\n    # 6) Return this mask as your binary_output image\\n    return binary\\n\\ndef hls_select(img, thresh=(0, 255)):\\n    # 1) Convert to HLS color space\\n    hls_img= cv2.cvtColor(img,cv2.COLOR_RGB2HLS)\\n    # 2) Apply a threshold to the S channel\\n    s = hls_img[:,:,2]\\n    s_masked_img = np.zeros_like(s)\\n    s_masked_img[(s>thresh[0])&(s<=thresh[1])] =1\\n    # 3) Return a binary image of threshold result\\n    return s_masked_img\\n    \\n    \""
      ]
     },
     "execution_count": 14,
     "metadata": {},
     "output_type": "execute_result"
    }
   ],
   "source": [
    "#Archived functions\n",
    "\n",
    "\"\"\"\n",
    "def abs_sobel_thresh(gray_img, orient='x', thresh_min=0, thresh_max=255):\n",
    "    # Apply the following steps to img\n",
    "    \n",
    "    # 2) Take the derivative in x or y given orient = 'x' or 'y'\n",
    "    if orient == 'x':\n",
    "        x = 1\n",
    "        y=0\n",
    "    elif orient == 'y':\n",
    "        x = 0\n",
    "        y = 1\n",
    "    else:\n",
    "        raise ValueError \n",
    "        \n",
    "    sobelx = cv2.Sobel(gray_img,cv2.CV_64F,x,y)\n",
    "    # 3) Take the absolute value of the derivative or gradient\n",
    "    abs_sobelx = np.absolute(sobelx)\n",
    "    # 4) Scale to 8-bit (0 - 255) then convert to type = np.uint8\n",
    "    scaled_sobel = np.uint8(255*abs_sobelx/np.max(abs_sobelx))\n",
    "    # 5) Create a mask of 1's where the scaled gradient magnitude \n",
    "            # is > thresh_min and < thresh_max\n",
    "    sxbinary = np.zeros_like(scaled_sobel)\n",
    "    # 6) Return this mask as your binary_output image\n",
    "    sxbinary [(scaled_sobel >= thresh_min) & (scaled_sobel <=thresh_max)] = 1\n",
    "    \n",
    "    return sxbinary\n",
    "\n",
    "def mag_thresh(gray, sobel_kernel=3, mag_thresh=(0, 255)):\n",
    "    # Apply the following steps to img\n",
    "  \n",
    "    # 2) Take the gradient in x and y separately\n",
    "    sobelx = cv2.Sobel(gray,cv2.CV_64F,1,0, ksize=sobel_kernel)\n",
    "    sobely = cv2.Sobel(gray,cv2.CV_64F,0,1, ksize=sobel_kernel)\n",
    "    # 3) Calculate the magnitude \n",
    "    grad = np.sqrt(sobelx**2+sobely**2)\n",
    "    scaled_sobel = np.uint8(255*grad/np.max(grad))\n",
    "    # 4) Scale to 8-bit (0 - 255) and convert to type = np.uint8\n",
    "    binary = np.zeros_like(scaled_sobel)\n",
    "    # 5) Create a binary mask where mag thresholds are met\n",
    "    binary[(scaled_sobel>=mag_thresh[0])&(scaled_sobel<=mag_thresh[1])]=1\n",
    "    # 6) Return this mask as your binary_output image\n",
    "    return binary\n",
    "\n",
    "def dir_threshold(gray, sobel_kernel=3, thresh=(0, np.pi/2)):\n",
    "    # 2) Take the gradient in x and y separately\n",
    "    sobelx = cv2.Sobel(gray,cv2.CV_64F,1,0,ksize=sobel_kernel)\n",
    "    sobely = cv2.Sobel(gray,cv2.CV_64F,0,1,ksize=sobel_kernel)\n",
    "    # 3) Take the absolute value of the x and y gradients\n",
    "    abs_sobelx= np.absolute(sobelx)\n",
    "    abs_sobely= np.absolute(sobely)\n",
    "    # 4) Use np.arctan2(abs_sobely, abs_sobelx) to calculate the direction of the gradient \n",
    "    grad_dir = np.arctan2(abs_sobely, abs_sobelx)\n",
    "    #scaled_sobel = np.uint8(255*grad_dir/np.max(grad_dir))\n",
    "    # 5) Create a binary mask where direction thresholds are met\n",
    "    binary = np.zeros_like(grad_dir)\n",
    "    binary[(grad_dir>=thresh[0]) & (grad_dir<=thresh[1])] = 1\n",
    "    # 6) Return this mask as your binary_output image\n",
    "    return binary\n",
    "\n",
    "def hls_select(img, thresh=(0, 255)):\n",
    "    # 1) Convert to HLS color space\n",
    "    hls_img= cv2.cvtColor(img,cv2.COLOR_RGB2HLS)\n",
    "    # 2) Apply a threshold to the S channel\n",
    "    s = hls_img[:,:,2]\n",
    "    s_masked_img = np.zeros_like(s)\n",
    "    s_masked_img[(s>thresh[0])&(s<=thresh[1])] =1\n",
    "    # 3) Return a binary image of threshold result\n",
    "    return s_masked_img\n",
    "    \n",
    "    \"\"\""
   ]
  }
 ],
 "metadata": {
  "kernelspec": {
   "display_name": "Python 3",
   "language": "python",
   "name": "python3"
  },
  "language_info": {
   "codemirror_mode": {
    "name": "ipython",
    "version": 3
   },
   "file_extension": ".py",
   "mimetype": "text/x-python",
   "name": "python",
   "nbconvert_exporter": "python",
   "pygments_lexer": "ipython3",
   "version": "3.5.6"
  }
 },
 "nbformat": 4,
 "nbformat_minor": 2
}
